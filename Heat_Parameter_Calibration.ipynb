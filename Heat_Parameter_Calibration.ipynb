{
 "cells": [
  {
   "cell_type": "markdown",
   "id": "99b9752d",
   "metadata": {},
   "source": [
    "# Heat Parameter Calibration\n",
    "Refer to the publication for more details on the implementation\n",
    "\n",
    "----------------------------------------------------------------------------------"
   ]
  },
  {
   "cell_type": "code",
   "execution_count": 1,
   "id": "0e063094",
   "metadata": {},
   "outputs": [],
   "source": [
    "# import required libraries:\n",
    "\n",
    "import pandas as pd\n",
    "import numpy as np\n",
    "import matplotlib.pyplot as plt\n",
    "from numpy.linalg import eig"
   ]
  },
  {
   "cell_type": "markdown",
   "id": "4c99d1aa",
   "metadata": {},
   "source": [
    "-----------------------------------------------------------------------------------------\n",
    "# 1st algorithmic stage\n",
    "-----------------------------------------------------------------------------------------"
   ]
  },
  {
   "cell_type": "markdown",
   "id": "4a88f250",
   "metadata": {},
   "source": [
    "# 1) Import the temperature evidence\n",
    "\n",
    "For any set of points in the spatial domain (x,y,z) report the corresponding temperature evidence, that is, the temperature as recorded from the experiment. If points on the fusion boundary are included, set their temperature equal to the material's melt point."
   ]
  },
  {
   "cell_type": "code",
   "execution_count": 2,
   "id": "19078b0a",
   "metadata": {},
   "outputs": [],
   "source": [
    "# convert your csv file into a dataframe, write the correct path name:\n",
    "\n",
    "t_evidence = pd.read_csv('YOUR PATH') "
   ]
  },
  {
   "cell_type": "markdown",
   "id": "90fcb091",
   "metadata": {},
   "source": [
    "# 2) Import the simulated temperature fields\n",
    "\n",
    "Start from an initial estimation of heat parameter vector and run a thermal simulation.\n",
    "\n",
    "Then change each heat parameter (e.g. heat source radii, heat input efficiency, heat loss coefficients) value with a step up or down, and record all simulated temperature results in .csv files."
   ]
  },
  {
   "cell_type": "code",
   "execution_count": null,
   "id": "88424567",
   "metadata": {},
   "outputs": [],
   "source": [
    "# convert your .csv files into dataframes, write the correct path name for each file:\n",
    "\n",
    "t_estimated = pd.read_csv('YOUR PATH') \n",
    "ra_down = pd.read_csv('YOUR PATH')\n",
    "ra_up = pd.read_csv('YOUR PATH')\n",
    "rl_down = pd.read_csv('YOUR PATH')\n",
    "rl_up = pd.read_csv('YOUR PATH')\n",
    "rv_down = pd.read_csv('YOUR PATH')\n",
    "rv_up = pd.read_csv('YOUR PATH')\n",
    "ef_down = pd.read_csv('YOUR PATH')\n",
    "ef_up = pd.read_csv('YOUR PATH')\n",
    "e_down = pd.read_csv('YOUR PATH')\n",
    "e_up = pd.read_csv('YOUR PATH')\n",
    "h_down = pd.read_csv('YOUR PATH')\n",
    "h_up = pd.read_csv('YOUR PATH')"
   ]
  },
  {
   "cell_type": "markdown",
   "id": "0590b62a",
   "metadata": {},
   "source": [
    "# 3) Calculated the partial derivatives of the simulated temperature fields"
   ]
  },
  {
   "cell_type": "code",
   "execution_count": null,
   "id": "2ce8d9e3",
   "metadata": {},
   "outputs": [],
   "source": [
    "# change step-size according to what you used to run the simulations:\n",
    "\n",
    "step = 1 \n",
    "\n",
    "# calculate the partial derivatives:\n",
    "\n",
    "d_ra = ra_up.copy()\n",
    "d_ra['temperature'] = (ra_up.copy()['temperature'] - ra_down.copy()['temperature'])/step\n",
    "d_ra.rename(columns = {'temperature':'derivative'}, inplace = True)\n",
    "\n",
    "d_rl = rl_up.copy()\n",
    "d_rl['temperature'] = (rl_up.copy()['temperature'] - rl_down.copy()['temperature'])/step\n",
    "d_rl.rename(columns = {'temperature':'derivative'}, inplace = True)\n",
    "\n",
    "d_rv = rv_up.copy()\n",
    "d_rv['temperature'] = (rv_up.copy()['temperature'] - rv_down.copy()['temperature'])/step\n",
    "d_rv.rename(columns = {'temperature':'derivative'}, inplace = True)\n",
    "\n",
    "d_ef = ef_up.copy()\n",
    "d_ef['temperature'] = (ef_up.copy()['temperature'] - ef_down.copy()['temperature'])/step\n",
    "d_ef.rename(columns = {'temperature':'derivative'}, inplace = True)\n",
    "\n",
    "d_e = e_up.copy()\n",
    "d_e['temperature'] = (e_up.copy()['temperature'] - e_down.copy()['temperature'])/step\n",
    "d_e.rename(columns = {'temperature':'derivative'}, inplace = True)\n",
    "\n",
    "d_h = h_up.copy()\n",
    "d_h['temperature'] = (h_up.copy()['temperature'] - h_down.copy()['temperature'])/step\n",
    "d_h.rename(columns = {'temperature':'derivative'}, inplace = True)\n"
   ]
  },
  {
   "cell_type": "markdown",
   "id": "5c65d4e4",
   "metadata": {},
   "source": [
    "# 4) Calculate the error term e_bar"
   ]
  },
  {
   "cell_type": "code",
   "execution_count": null,
   "id": "ed748ffc",
   "metadata": {},
   "outputs": [],
   "source": [
    "# set appropriate values of alpha  (maximum deviations from initially estimated parameter values):\n",
    "\n",
    "a_ra = 3\n",
    "a_rl = 3\n",
    "a_rv = 3\n",
    "a_ef = 20\n",
    "a_e = 3\n",
    "a_h =  8\n",
    "\n",
    "# calculate values of e_bar:\n",
    "\n",
    "e_bar_ra = d_ra.copy()\n",
    "e_bar_ra['derivative'] = (abs(d_h['derivative'])*(a_h) + abs(d_ef['derivative'])*(a_ef) + abs(d_e['derivative'])*(a_e) + abs(d_rl['derivative'])*(a_rl) + abs(d_rv['derivative'])*(a_rv))/abs(d_ra['derivative'])\n",
    "e_bar_ra.rename(columns = {'derivative':'e_bar'}, inplace = True)\n",
    "\n",
    "e_bar_rl = d_rl.copy()\n",
    "e_bar_rl['derivative'] = (abs(d_h['derivative'])*(a_h) + abs(d_ef['derivative'])*(a_ef) + abs(d_e['derivative'])*(a_e) + abs(d_ra['derivative'])*(a_ra) + abs(d_rv['derivative'])*(a_rv))/abs(d_rl['derivative'])\n",
    "e_bar_rl.rename(columns = {'derivative':'e_bar'}, inplace = True)\n",
    "\n",
    "e_bar_rv = d_rv.copy()\n",
    "e_bar_rv['derivative'] = (abs(d_h['derivative'])*(a_h) + abs(d_ef['derivative'])*(a_ef) + abs(d_e['derivative'])*(a_e) + abs(d_rl['derivative'])*(a_rl) + abs(d_ra['derivative'])*(a_ra))/abs(d_rv['derivative'])\n",
    "e_bar_rv.rename(columns = {'derivative':'e_bar'}, inplace = True)\n",
    "\n",
    "e_bar_ef = d_ef.copy()\n",
    "e_bar_ef['derivative'] = (abs(d_h['derivative'])*(a_h) + abs(d_e['derivative'])*(a_e) + abs(d_ra['derivative'])*(a_ra) + abs(d_rl['derivative'])*(a_rl) + abs(d_rv['derivative'])*(a_rv))/abs(d_ef['derivative'])\n",
    "e_bar_ef.rename(columns = {'derivative':'e_bar'}, inplace = True)\n",
    "\n",
    "e_bar_e = d_e.copy()\n",
    "e_bar_e['derivative'] = (abs(d_h['derivative'])*(a_h) + abs(d_ef['derivative'])*(a_ef) + abs(d_ra['derivative'])*(a_ra) + abs(d_rl['derivative'])*(a_rl) + abs(d_rv['derivative'])*(a_rv))/abs(d_e['derivative'])\n",
    "e_bar_e.rename(columns = {'derivative':'e_bar'}, inplace = True)\n",
    "\n",
    "e_bar_h = d_h.copy()\n",
    "e_bar_h['derivative'] = (abs(d_e['derivative'])*(a_e) + abs(d_ef['derivative'])*(a_ef) + abs(d_ra['derivative'])*(a_ra) + abs(d_rl['derivative'])*(a_rl) + abs(d_rv['derivative'])*(a_rv))/abs(d_h['derivative'])\n",
    "e_bar_h.rename(columns = {'derivative':'e_bar'}, inplace = True)"
   ]
  },
  {
   "cell_type": "markdown",
   "id": "cd693a73",
   "metadata": {},
   "source": [
    "# 5) Estimate the new heat parameter values"
   ]
  },
  {
   "cell_type": "code",
   "execution_count": null,
   "id": "ba9ccf32",
   "metadata": {},
   "outputs": [],
   "source": [
    "# parameter value of initialisation / previous iteration, change as necessary:\n",
    "ra_prev = 4 \n",
    "\n",
    "der_ra = d_ra.copy()\n",
    "p_ra = t_evidence.copy()\n",
    "p_ra['temperature'] = ra_prev + (t_evidence['temperature'] - t_estimated['temperature'])/der_ra['derivative']  \n",
    "p_ra.rename(columns = {'temperature':'ra'}, inplace = True)\n",
    "p_ra['e_bar'] = e_bar_ra['e_bar'].copy()\n",
    "p_ra['derivative'] = der_ra['derivative'].copy()\n",
    "\n",
    "# CHANGE THE THRESHOLD IF NECESSARY TO INCLUDE THE DESIRED NUMBER OF POINTS FOR THE ESTIMATION\n",
    "threshold = 0.5 \n",
    "filtered_p_ra = p_ra[(p_ra['e_bar'] <= threshold)].copy() \n",
    "filtered_p_ra.reset_index(drop=True, inplace=True)\n",
    "ra = round(filtered_p_ra['ra'].median(),0)\n",
    "print(\"median is:\",ra)\n",
    "filtered_p_ra['ra'].plot(kind='hist', bins=80, range=(0, 10))"
   ]
  },
  {
   "cell_type": "code",
   "execution_count": null,
   "id": "1f0b7f01",
   "metadata": {},
   "outputs": [],
   "source": [
    "# parameter value of initialisation / previous iteration , change as necessary:\n",
    "rv_prev = 4\n",
    "\n",
    "der_rv = d_rv.copy()\n",
    "p_rv = t_evidence.copy()\n",
    "p_rv['temperature'] = rv_prev + (t_evidence['temperature'] - t_estimated['temperature'])/der_rv['derivative']  \n",
    "p_rv.rename(columns = {'temperature':'rv'}, inplace = True)\n",
    "p_rv['e_bar'] = e_bar_rv['e_bar'].copy()\n",
    "p_rv['derivative'] = der_rv['derivative'].copy()\n",
    "\n",
    "# CHANGE THE THRESHOLD IF NECESSARY TO INCLUDE THE DESIRED NUMBER OF POINTS FOR THE ESTIMATION\n",
    "threshold = 0.5 \n",
    "filtered_p_rv = p_rv[(p_rv['e_bar'] <= threshold)].copy()\n",
    "filtered_p_rv.reset_index(drop=True, inplace=True)\n",
    "rv = round(filtered_p_rv['rv'].median(),0)\n",
    "print(\"median is:\",rv)\n",
    "filtered_p_rv['rv'].plot(kind='hist', bins=80, range=(0, 10))"
   ]
  },
  {
   "cell_type": "code",
   "execution_count": null,
   "id": "7e740450",
   "metadata": {},
   "outputs": [],
   "source": [
    "# parameter value of initialisation / previous iteration , change as necessary:\n",
    "rl_prev = 4\n",
    "\n",
    "der_rl = d_rl.copy()\n",
    "p_rl = t_evidence.copy()\n",
    "p_rl['temperature'] = rl_prev + (t_evidence['temperature'] - t_estimated['temperature'])/der_rl['derivative']  \n",
    "p_rl.rename(columns = {'temperature':'rl'}, inplace = True)\n",
    "p_rl['e_bar'] = e_bar_rl['e_bar'].copy()\n",
    "p_rl['derivative'] = der_rl['derivative'].copy()\n",
    "\n",
    "# CHANGE THE THRESHOLD IF NECESSARY TO INCLUDE THE DESIRED NUMBER OF POINTS FOR THE ESTIMATION\n",
    "threshold = 0.5 \n",
    "filtered_p_rl = p_rl[(p_rl['e_bar'] <= threshold)].copy()\n",
    "filtered_p_rl.reset_index(drop=True, inplace=True)\n",
    "rl = round(filtered_p_rl['rl'].median(),0)\n",
    "print(\"median is:\",rl)\n",
    "filtered_p_rl['rl'].plot(kind='hist', bins=80, range=(0, 10))"
   ]
  },
  {
   "cell_type": "code",
   "execution_count": null,
   "id": "285e8e9e",
   "metadata": {},
   "outputs": [],
   "source": [
    "# parameter value of initialisation / previous iteration , change as necessary:\n",
    "ef_prev = 80\n",
    "\n",
    "der_ef = d_ef.copy()\n",
    "p_ef = t_evidence.copy()\n",
    "p_ef['temperature'] = ef_prev + (t_evidence['temperature'] - t_estimated['temperature']) / der_ef['derivative']\n",
    "p_ef.rename(columns = {'temperature':'efficiency'}, inplace = True)\n",
    "p_ef['e_bar'] = e_bar_ef['e_bar'].copy()\n",
    "p_ef['derivative'] = der_ef['derivative'].copy()\n",
    "\n",
    "# CHANGE THE THRESHOLD IF NECESSARY TO INCLUDE THE DESIRED NUMBER OF POINTS FOR THE ESTIMATION\n",
    "threshold = 0.5 \n",
    "filtered_p_ef = p_ef[(p_ef['e_bar'] <= threshold)].copy()\n",
    "filtered_p_ef.reset_index(drop=True, inplace=True)\n",
    "ef = round(filtered_p_ef['efficiency'].median(),0)\n",
    "print(\"median is:\",ef)\n",
    "filtered_p_ef['efficiency'].plot(kind='hist', bins=80, range=(60, 100))"
   ]
  },
  {
   "cell_type": "code",
   "execution_count": null,
   "id": "9ac8da56",
   "metadata": {},
   "outputs": [],
   "source": [
    "# parameter value of initialisation / previous iteration , change as necessary:\n",
    "e_prev = 7\n",
    "\n",
    "der_e = d_e.copy()\n",
    "p_e = t_evidence.copy()\n",
    "p_e['temperature'] = e_prev + (t_evidence['temperature'] - t_estimated['temperature']) / der_e['derivative']\n",
    "p_e.rename(columns = {'temperature':'e'}, inplace = True)\n",
    "p_e['e_bar'] = e_bar_e['e_bar'].copy()\n",
    "p_e['derivative'] = der_e['derivative'].copy()\n",
    "\n",
    "# CHANGE THE THRESHOLD IF NECESSARY TO INCLUDE THE DESIRED NUMBER OF POINTS FOR THE ESTIMATION\n",
    "threshold = 0.5 \n",
    "filtered_p_e = p_e[(p_e['e_bar'] <= threshold)].copy()\n",
    "filtered_p_e.reset_index(drop=True, inplace=True)\n",
    "e = round(filtered_p_e['e'].median(),0)\n",
    "print(\"median is:\",e)\n",
    "filtered_p_e['e'].plot(kind='hist', bins=80, range=(0, 10))"
   ]
  },
  {
   "cell_type": "code",
   "execution_count": null,
   "id": "98375f10",
   "metadata": {},
   "outputs": [],
   "source": [
    "# parameter value of initialisation / previous iteration , change as necessary:\n",
    "h_prev = 13 \n",
    "\n",
    "der_h = d_h.copy()\n",
    "p_h = t_evidence.copy()\n",
    "p_h['temperature'] = h_prev + (t_evidence['temperature'] - t_estimated['temperature']) / der_h['derivative']\n",
    "p_h.rename(columns = {'temperature':'h'}, inplace = True)\n",
    "p_h['e_bar'] = e_bar_h['e_bar'].copy()\n",
    "p_h['derivative'] = der_h['derivative'].copy()\n",
    "\n",
    "# CHANGE THE THRESHOLD IF NECESSARY TO INCLUDE THE DESIRED NUMBER OF POINTS FOR THE ESTIMATION\n",
    "threshold = 0.5 \n",
    "filtered_p_h = p_h[(p_h['e_bar'] <= threshold)].copy()\n",
    "filtered_p_h.reset_index(drop=True, inplace=True)\n",
    "h = round(filtered_p_h['h'].median(),0)\n",
    "print(\"median is:\",h)\n",
    "filtered_p_h['h'].plot(kind='hist', bins=80, range=(0, 20))"
   ]
  },
  {
   "cell_type": "markdown",
   "id": "db57f6fd",
   "metadata": {},
   "source": [
    "# 6) Repeat steps 2 to 5 until convergence"
   ]
  },
  {
   "cell_type": "markdown",
   "id": "ab0acf16",
   "metadata": {},
   "source": [
    "If the uncertainty interval found from the 1st algorithmic stage is wide, progress to the 2nd algorithmic stage.\n",
    "\n",
    "-----------------------------------------------------------------------------------------\n",
    "# 2nd algorithmic stage\n",
    "-----------------------------------------------------------------------------------------"
   ]
  },
  {
   "cell_type": "markdown",
   "id": "c989e886",
   "metadata": {},
   "source": [
    "# 7) Find a particular solution from the interval found in the 1st algorithmic stage"
   ]
  },
  {
   "cell_type": "markdown",
   "id": "6a1e27d6",
   "metadata": {},
   "source": [
    "# 8) Find the partial derivatives on this particular solution (as in steps 2&3)"
   ]
  },
  {
   "cell_type": "markdown",
   "id": "bda2e214",
   "metadata": {},
   "source": [
    "# 9) Calculate the Jacobian matrix"
   ]
  },
  {
   "cell_type": "code",
   "execution_count": null,
   "id": "ed66bed9",
   "metadata": {},
   "outputs": [],
   "source": [
    "column_names = ['d_rl', 'd_rv','d_ra','d_ef','d_e', 'd_h']\n",
    "\n",
    "Ja = pd.concat([\n",
    "    d_rl['derivative'],\n",
    "    d_rv['derivative'],\n",
    "    d_ra['derivative'],\n",
    "    d_ef['derivative'],\n",
    "    d_e['derivative'],\n",
    "    d_h['derivative']\n",
    "], axis=1)\n",
    "\n",
    "Ja.columns = column_names\n",
    "\n",
    "Ja.reset_index(drop=True, inplace=True)\n",
    "Ja"
   ]
  },
  {
   "cell_type": "markdown",
   "id": "2530abe6",
   "metadata": {},
   "source": [
    "# 10) Find the eigenvector/s which correspond to the minimum eigenvalue/s"
   ]
  },
  {
   "cell_type": "code",
   "execution_count": null,
   "id": "6fbb228f",
   "metadata": {},
   "outputs": [],
   "source": [
    "JJa = np.matmul(Ja.transpose(),Ja) \n",
    "\n",
    "eigenvalues, eigenvectors = eig(JJa) # the ith column of eigenvectors corresponds to ith eigenvalue\n",
    "print(eigenvalues)\n",
    "print(eigenvectors)"
   ]
  }
 ],
 "metadata": {
  "kernelspec": {
   "display_name": "Python 3 (ipykernel)",
   "language": "python",
   "name": "python3"
  },
  "language_info": {
   "codemirror_mode": {
    "name": "ipython",
    "version": 3
   },
   "file_extension": ".py",
   "mimetype": "text/x-python",
   "name": "python",
   "nbconvert_exporter": "python",
   "pygments_lexer": "ipython3",
   "version": "3.9.12"
  }
 },
 "nbformat": 4,
 "nbformat_minor": 5
}
